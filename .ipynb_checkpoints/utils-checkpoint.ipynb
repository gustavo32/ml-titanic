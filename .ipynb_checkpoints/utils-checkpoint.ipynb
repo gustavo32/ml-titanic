{
 "cells": [
  {
   "cell_type": "code",
   "execution_count": 5,
   "metadata": {},
   "outputs": [],
   "source": [
    "from sklearn.pipeline import Pipeline\n",
    "from sklearn.base import BaseEstimator, TransformerMixin\n",
    "from sklearn.ensemble import RandomForestRegressor\n",
    "import numpy as np\n",
    "import pandas as pd"
   ]
  },
  {
   "cell_type": "code",
   "execution_count": 6,
   "metadata": {},
   "outputs": [],
   "source": [
    "class DataFrameSelector(BaseEstimator, TransformerMixin):\n",
    "    '''Input a DataFrame and returns given columns on NumPy array'''\n",
    "    def __init__(self, columns):\n",
    "        self.columns = columns\n",
    "    def fit(self, X, y):\n",
    "        return self\n",
    "    def transform(self, X):\n",
    "        return X[self.columns].values"
   ]
  },
  {
   "cell_type": "code",
   "execution_count": 7,
   "metadata": {},
   "outputs": [],
   "source": [
    "class ImputerByRegression(BaseEstimator, TransformerMixin):\n",
    "    def __init__(self, feature, columns, estimator=RandomForestRegressor()):\n",
    "        self.feature = feature\n",
    "        self.columns = columns\n",
    "        self.estimator = estimator\n",
    "    def fit(self, X, y=None):\n",
    "        missing_values = X[X[self.feature].isnull()]\n",
    "        input_values = X[X[self.feature].notnull()]\n",
    "        \n",
    "        features = input_values[self.columns]\n",
    "        labels = input_values[self.feature]\n",
    "        \n",
    "        return estimator.fit(features, labels)\n",
    "    \n",
    "    def transform(self, X):\n",
    "        X[self.feature].where(X[self.feature].notnull(), estimator.predict(X[self.columns]), inplace=True)\n",
    "        return X"
   ]
  },
  {
   "cell_type": "code",
   "execution_count": 8,
   "metadata": {},
   "outputs": [],
   "source": [
    "\n",
    "\n",
    "class AddAttributes(BaseEstimator, TransformerMixin):\n",
    "    def __init__(self, add_isAlone=True, add_FamSize=True):\n",
    "        self.add_isAlone = add_isAlone\n",
    "        self.add_FamSize = add_FamSize\n",
    "    def fit(self, X, y=None):\n",
    "        return self\n",
    "    \n",
    "    def create_treatment_column(self, single_data):\n",
    "        \"\"\"This function create a treatment's list:\n",
    "        1 - Miss.\n",
    "        2 - Mr.\n",
    "        3 - Mrs.\n",
    "        4 - Master\n",
    "        5 - Others\"\"\"\n",
    "        if re.findall(r\"(.+(M|m)iss.+)|(.+(M|m)ile.+)|(.+(M|m)s.+)\", single_data):\n",
    "            return \"Miss\"\n",
    "        elif re.findall(r\"(.+(M|m)rs.+)|(.+(M|m)me.+)\", single_data):\n",
    "            return \"Mrs\"\n",
    "        elif re.findall(r\".+(M|m)r.+\", single_data):\n",
    "            return \"Mr\"\n",
    "        elif re.findall(r\".+(M|m)aster.+\", single_data):\n",
    "            return \"Master\"\n",
    "        return \"Others\"  # Others\n",
    "\n",
    "    def transform(self, X):\n",
    "        treatment = np.apply_along_axis(create_treatment_column, 0, X[:, 0])\n",
    "        return np.c_[X[1:], treatment]"
   ]
  },
  {
   "cell_type": "code",
   "execution_count": null,
   "metadata": {},
   "outputs": [],
   "source": []
  }
 ],
 "metadata": {
  "kernelspec": {
   "display_name": "Python 3",
   "language": "python",
   "name": "python3"
  },
  "language_info": {
   "codemirror_mode": {
    "name": "ipython",
    "version": 3
   },
   "file_extension": ".py",
   "mimetype": "text/x-python",
   "name": "python",
   "nbconvert_exporter": "python",
   "pygments_lexer": "ipython3",
   "version": "3.7.0"
  }
 },
 "nbformat": 4,
 "nbformat_minor": 2
}
